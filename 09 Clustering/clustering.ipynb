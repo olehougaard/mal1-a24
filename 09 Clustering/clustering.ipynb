{
 "cells": [
  {
   "cell_type": "markdown",
   "metadata": {},
   "source": []
  },
  {
   "cell_type": "markdown",
   "metadata": {},
   "source": [
    "# Preamble\n",
    "\n",
    "importing"
   ]
  },
  {
   "cell_type": "code",
   "execution_count": null,
   "metadata": {},
   "outputs": [],
   "source": [
    "import numpy as np\n",
    "\n",
    "import matplotlib.pyplot as plt\n",
    "from matplotlib.colors import ListedColormap\n",
    "\n",
    "from sklearn.datasets import make_blobs\n"
   ]
  },
  {
   "cell_type": "markdown",
   "metadata": {},
   "source": [
    "# Seperate Data\n",
    "\n",
    "Making test data"
   ]
  },
  {
   "cell_type": "code",
   "execution_count": null,
   "metadata": {},
   "outputs": [],
   "source": [
    "centers_full=[[-5, 0], [5, 5], [5, -5]]\n",
    "colors_full = [\"green\", \"yellow\", \"magenta\"]\n",
    "blobs = make_blobs(centers=centers_full[:2], cluster_std= 2, n_samples=300, random_state=42)\n",
    "\n",
    "X, y = blobs\n",
    "\n",
    "colors = ListedColormap(colors_full)\n",
    "\n",
    "plt.scatter(X[:, 0], X[:, 1], c=np.zeros(len(y)), cmap=colors)"
   ]
  },
  {
   "cell_type": "markdown",
   "metadata": {},
   "source": [
    "## k-Means\n",
    "\n",
    "Creating and fitting KMeans on the data."
   ]
  },
  {
   "cell_type": "code",
   "execution_count": null,
   "metadata": {},
   "outputs": [],
   "source": [
    "from sklearn.cluster import KMeans\n",
    "\n",
    "cluster = KMeans(random_state=42, n_clusters=2, n_init=10)\n",
    "cluster.fit(X)"
   ]
  },
  {
   "cell_type": "code",
   "execution_count": null,
   "metadata": {},
   "outputs": [],
   "source": [
    "plt.scatter(X[:, 0], X[:, 1], c=cluster.predict(X), cmap=colors)"
   ]
  },
  {
   "cell_type": "code",
   "execution_count": null,
   "metadata": {},
   "outputs": [],
   "source": [
    "costs = []\n",
    "ks = range(1,10)\n",
    "for k in ks:\n",
    "    kmeans = KMeans(n_clusters=k, n_init=10)\n",
    "    kmeans.fit(X)\n",
    "    costs.append(kmeans.inertia_)\n",
    "plt.plot(ks,costs,'.-', markersize=10)\n",
    "plt.xlabel('k')\n",
    "plt.ylabel('Cost')\n"
   ]
  },
  {
   "cell_type": "markdown",
   "metadata": {},
   "source": [
    "## Agglomerative Clustering"
   ]
  },
  {
   "cell_type": "code",
   "execution_count": null,
   "metadata": {},
   "outputs": [],
   "source": [
    "from scipy.cluster.hierarchy import dendrogram, ward\n",
    "\n",
    "linkage_array = ward(X) #compute distances using Ward's method\n",
    "dendrogram(linkage_array)\n",
    "plt.ylabel('Distance')\n"
   ]
  },
  {
   "cell_type": "code",
   "execution_count": null,
   "metadata": {},
   "outputs": [],
   "source": [
    "from sklearn.cluster import AgglomerativeClustering\n",
    "\n",
    "agg = AgglomerativeClustering(linkage='ward')\n",
    "y_prime = agg.fit_predict(X)\n",
    "plt.scatter(X[:, 0], X[:, 1], c=y_prime, cmap=colors)"
   ]
  },
  {
   "cell_type": "code",
   "execution_count": null,
   "metadata": {},
   "outputs": [],
   "source": [
    "import math\n",
    "\n",
    "def init_nth_lowest(n):\n",
    "  return np.full(n, math.inf).tolist()\n",
    "\n",
    "def add_to_nth_lowest(lowest, value):\n",
    "  lowest.append(value)\n",
    "  lowest.sort()\n",
    "  lowest.pop()\n",
    "\n",
    "def nth_lowest_distance(n, point, points):\n",
    "  lowest = init_nth_lowest(n)\n",
    "  for p in points:\n",
    "    distance = np.linalg.norm(point - p)\n",
    "    add_to_nth_lowest(lowest, distance)\n",
    "  return lowest[-1]\n",
    "\n",
    "def nth_lowest_distances(n, points):\n",
    "  return [nth_lowest_distance(n, point, points) for point in points]\n",
    "\n",
    "distances = nth_lowest_distances(4, X)\n",
    "distances.sort(reverse=True)\n",
    "\n",
    "plt.plot(range(len(distances)), distances)\n"
   ]
  },
  {
   "cell_type": "code",
   "execution_count": null,
   "metadata": {},
   "outputs": [],
   "source": [
    "from sklearn.cluster import DBSCAN\n",
    "\n",
    "dbscan = DBSCAN(eps=.8, min_samples=4)\n",
    "y_prime = dbscan.fit_predict(X)\n",
    "for i in range(y_prime.max() + 1) :\n",
    "    plt.plot(X[y_prime == i, 0], X[y_prime == i, 1], '.', label=i)\n",
    "plt.plot(X[y_prime == -1, 0], X[y_prime == -1, 1], 'X')\n"
   ]
  },
  {
   "cell_type": "markdown",
   "metadata": {},
   "source": [
    "# Less Defined Clusters\n",
    "\n",
    "Let's see how this works in a less separated data set"
   ]
  },
  {
   "cell_type": "code",
   "execution_count": null,
   "metadata": {},
   "outputs": [],
   "source": [
    "blobs = make_blobs(centers=centers_full, cluster_std=2.5, n_samples=300, random_state=504)\n",
    "\n",
    "X, y = blobs\n",
    "\n",
    "plt.scatter(X[:, 0], X[:, 1])"
   ]
  },
  {
   "cell_type": "markdown",
   "metadata": {},
   "source": [
    "## k-Means\n",
    "\n",
    "Creating and fitting KMeans on the data."
   ]
  },
  {
   "cell_type": "code",
   "execution_count": null,
   "metadata": {},
   "outputs": [],
   "source": [
    "cluster = KMeans(random_state=42, n_clusters=3, n_init = 10, init='k-means++')\n",
    "y_prime = cluster.fit_predict(X)"
   ]
  },
  {
   "cell_type": "code",
   "execution_count": null,
   "metadata": {},
   "outputs": [],
   "source": [
    "plt.scatter(X[:, 0], X[:, 1], c=y_prime, cmap=colors)"
   ]
  },
  {
   "cell_type": "code",
   "execution_count": null,
   "metadata": {},
   "outputs": [],
   "source": [
    "costs = []\n",
    "ks = range(1,10)\n",
    "for k in ks:\n",
    "    kmeans = KMeans(n_clusters=k, n_init=10)\n",
    "    kmeans.fit(X)\n",
    "    costs.append(kmeans.inertia_)\n",
    "plt.plot(ks,costs,'.-', markersize=10)\n",
    "plt.xlabel('k')\n",
    "plt.ylabel('Cost')\n"
   ]
  },
  {
   "cell_type": "markdown",
   "metadata": {},
   "source": [
    "## Agglomerative Clustering"
   ]
  },
  {
   "cell_type": "code",
   "execution_count": null,
   "metadata": {},
   "outputs": [],
   "source": [
    "from scipy.cluster.hierarchy import dendrogram, ward\n",
    "\n",
    "linkage_array = ward(X) #compute distances using Ward's method\n",
    "dendrogram(linkage_array)\n",
    "plt.ylabel('Distance')\n"
   ]
  },
  {
   "cell_type": "code",
   "execution_count": null,
   "metadata": {},
   "outputs": [],
   "source": [
    "from sklearn.cluster import AgglomerativeClustering\n",
    "\n",
    "agg = AgglomerativeClustering(linkage='ward', distance_threshold=65, n_clusters=None)\n",
    "y_prime = agg.fit_predict(X)\n",
    "plt.scatter(X[:, 0], X[:, 1], c=y_prime, cmap=colors)"
   ]
  },
  {
   "cell_type": "markdown",
   "metadata": {},
   "source": [
    "## DBSCAN"
   ]
  },
  {
   "cell_type": "code",
   "execution_count": null,
   "metadata": {},
   "outputs": [],
   "source": [
    "distances = nth_lowest_distances(4, X)\n",
    "distances.sort(reverse=True)\n",
    "\n",
    "plt.plot(range(len(distances)), distances)\n"
   ]
  },
  {
   "cell_type": "code",
   "execution_count": null,
   "metadata": {},
   "outputs": [],
   "source": [
    "from sklearn.cluster import DBSCAN\n",
    "\n",
    "dbscan = DBSCAN(eps=1.25, min_samples=4)\n",
    "y_prime = dbscan.fit_predict(X)\n",
    "for i in range(y_prime.max() + 1) :\n",
    "    plt.plot(X[y_prime == i, 0], X[y_prime == i, 1], '.', label=i)\n",
    "plt.plot(X[y_prime == -1, 0], X[y_prime == -1, 1], 'X')\n"
   ]
  },
  {
   "cell_type": "markdown",
   "metadata": {},
   "source": [
    "# Non-linear data\n",
    "\n",
    "First some datasets."
   ]
  },
  {
   "cell_type": "code",
   "execution_count": null,
   "metadata": {},
   "outputs": [],
   "source": [
    "from sklearn.datasets import make_moons, make_circles, make_gaussian_quantiles, make_swiss_roll\n",
    "from math import floor, ceil\n",
    "import mpl_toolkits.mplot3d.axes3d as p3\n",
    "\n",
    "colors = ListedColormap(['green', 'magenta', 'yellow', 'blue'])\n",
    "\n",
    "X_moons, y_moons = make_moons(n_samples=200, noise = .1, random_state = 504)\n",
    "X_circles, y_circles = make_circles(n_samples=300, factor=.65, noise = .05)\n",
    "X1, y1 = make_gaussian_quantiles(cov=1,\n",
    "                                 n_samples=200, n_features=2,\n",
    "                                 n_classes=2, random_state=504)\n",
    "X2, y2 = make_gaussian_quantiles(mean=(3, 3), cov=.1,\n",
    "                                 n_samples=300, n_features=2,\n",
    "                                 n_classes=2, random_state=504)\n",
    "X_quan = np.concatenate((X1, X2))\n",
    "\n",
    "X_swiss, y_swiss = make_swiss_roll(n_samples = 1500, noise = 0.05, random_state=504)\n",
    "\n",
    "figure = plt.figure(figsize=(10, 10))\n",
    "\n",
    "ax = figure.add_subplot(2, 2, 1, title='moons')\n",
    "ax.scatter(X_moons[:, 0], X_moons[:, 1])\n",
    "\n",
    "ax = figure.add_subplot(2, 2, 2, title='circles')\n",
    "ax.scatter(X_circles[:, 0], X_circles[:, 1])\n",
    "\n",
    "ax = figure.add_subplot(2, 2, 3, title='Gaussian quantiles')\n",
    "ax.scatter(X_quan[:, 0], X_quan[:, 1])\n",
    "\n",
    "ax = figure.add_subplot(2, 2, 4, title='Swiss roll', projection='3d')\n",
    "ax.scatter(X_swiss[:, 0], X_swiss[:, 1], X_swiss[:, 2])\n"
   ]
  },
  {
   "cell_type": "markdown",
   "metadata": {},
   "source": [
    "## kMeans"
   ]
  },
  {
   "cell_type": "code",
   "execution_count": null,
   "metadata": {},
   "outputs": [],
   "source": [
    "def elbow(X, ax):\n",
    "    costs = []\n",
    "    ks = range(1,10)\n",
    "    for k in ks:\n",
    "        kmeans = KMeans(n_clusters=k, n_init=10)\n",
    "        kmeans.fit(X)\n",
    "        costs.append(kmeans.inertia_)\n",
    "    ax.plot(ks,costs,'.-', markersize=10)\n",
    "    ax.set_xlabel('k')\n",
    "    ax.set_ylabel('Cost')\n",
    "\n",
    "figure = plt.figure(figsize=(10, 10))\n",
    "\n",
    "ax = figure.add_subplot(2, 2, 1, title='moons')\n",
    "elbow(X_moons, ax)\n",
    "\n",
    "ax = figure.add_subplot(2, 2, 2, title='circles')\n",
    "elbow(X_circles, ax)\n",
    "\n",
    "ax = figure.add_subplot(2, 2, 3, title='Gaussian quantiles')\n",
    "elbow(X_quan, ax)\n",
    "\n",
    "ax = figure.add_subplot(2, 2, 4, title='Swiss roll')\n",
    "elbow(X_swiss, ax)\n"
   ]
  },
  {
   "cell_type": "code",
   "execution_count": null,
   "metadata": {},
   "outputs": [],
   "source": [
    "figure = plt.figure(figsize=(10, 10))\n",
    "\n",
    "cluster = KMeans(n_clusters=2)\n",
    "cluster.fit(X_moons)\n",
    "ax = figure.add_subplot(2, 2, 1, title='moons')\n",
    "ax.scatter(X_moons[:, 0], X_moons[:, 1], c=cluster.predict(X_moons), cmap=colors)\n",
    "\n",
    "cluster = KMeans(n_clusters=5)\n",
    "cluster.fit(X_circles)\n",
    "ax = figure.add_subplot(2, 2, 2, title='circles')\n",
    "ax.scatter(X_circles[:, 0], X_circles[:, 1], c=cluster.predict(X_circles), cmap=colors)\n",
    "\n",
    "cluster = KMeans(n_clusters=2)\n",
    "cluster.fit(X_quan)\n",
    "ax = figure.add_subplot(2, 2, 3, title='Gaussian quantiles')\n",
    "ax.scatter(X_quan[:, 0], X_quan[:, 1], c=cluster.predict(X_quan), cmap=colors)\n",
    "\n",
    "cluster = KMeans(n_clusters=3)\n",
    "cluster.fit(X_swiss)\n",
    "ax = figure.add_subplot(2, 2, 4, title='Swiss roll', projection='3d')\n",
    "ax.scatter(X_swiss[:, 0], X_swiss[:, 1], X_swiss[:, 2], c=cluster.predict(X_swiss), cmap=colors)\n"
   ]
  },
  {
   "cell_type": "markdown",
   "metadata": {},
   "source": [
    "## Agglomerative Clustering"
   ]
  },
  {
   "cell_type": "code",
   "execution_count": null,
   "metadata": {},
   "outputs": [],
   "source": [
    "def draw_dendogram(X, ax):\n",
    "    linkage_array = ward(X) #compute distances using Ward's method\n",
    "    dendrogram(linkage_array, ax=ax)\n",
    "    ax.set_ylabel('Distance')\n",
    "\n",
    "figure = plt.figure(figsize=(10, 10))\n",
    "\n",
    "ax = figure.add_subplot(2, 2, 1, title='moons')\n",
    "draw_dendogram(X_moons, ax)\n",
    "\n",
    "ax = figure.add_subplot(2, 2, 2, title='circles')\n",
    "draw_dendogram(X_circles, ax)\n",
    "\n",
    "ax = figure.add_subplot(2, 2, 3, title='Gaussian quantiles')\n",
    "draw_dendogram(X_quan, ax)\n",
    "\n",
    "ax = figure.add_subplot(2, 2, 4, title='Swiss roll')\n",
    "draw_dendogram(X_swiss, ax)\n"
   ]
  },
  {
   "cell_type": "code",
   "execution_count": null,
   "metadata": {},
   "outputs": [],
   "source": [
    "figure = plt.figure(figsize=(10, 10))\n",
    "\n",
    "cluster = AgglomerativeClustering(n_clusters=None, distance_threshold=12)\n",
    "y_prime = cluster.fit_predict(X_moons)\n",
    "ax = figure.add_subplot(2, 2, 1, title='moons')\n",
    "ax.scatter(X_moons[:, 0], X_moons[:, 1], c=y_prime, cmap=colors)\n",
    "\n",
    "cluster = AgglomerativeClustering(n_clusters=None, distance_threshold=11)\n",
    "y_prime = cluster.fit_predict(X_circles)\n",
    "ax = figure.add_subplot(2, 2, 2, title='circles')\n",
    "ax.scatter(X_circles[:, 0], X_circles[:, 1], c=y_prime, cmap=colors)\n",
    "\n",
    "cluster = AgglomerativeClustering(n_clusters=None, distance_threshold=40)\n",
    "y_prime = cluster.fit_predict(X_quan)\n",
    "ax = figure.add_subplot(2, 2, 3, title='Gaussian quantiles')\n",
    "ax.scatter(X_quan[:, 0], X_quan[:, 1], c=y_prime, cmap=colors)\n",
    "\n",
    "cluster = AgglomerativeClustering(n_clusters=None, distance_threshold=240)\n",
    "y_prime = cluster.fit_predict(X_swiss)\n",
    "ax = figure.add_subplot(2, 2, 4, title='Swiss roll', projection='3d')\n",
    "ax.scatter(X_swiss[:, 0], X_swiss[:, 1], X_swiss[:, 2], c=y_prime, cmap=colors)\n"
   ]
  },
  {
   "cell_type": "markdown",
   "metadata": {},
   "source": [
    "## DBSCAN"
   ]
  },
  {
   "cell_type": "code",
   "execution_count": null,
   "metadata": {},
   "outputs": [],
   "source": [
    "figure = plt.figure(figsize=(10, 10))\n",
    "\n",
    "ax = figure.add_subplot(2, 2, 1, title='moons')\n",
    "distances = nth_lowest_distances(4, X_moons)\n",
    "distances.sort(reverse=True)\n",
    "plt.plot(range(len(distances)), distances)\n",
    "\n",
    "ax = figure.add_subplot(2, 2, 2, title='circles')\n",
    "distances = nth_lowest_distances(4, X_circles)\n",
    "distances.sort(reverse=True)\n",
    "plt.plot(range(len(distances)), distances)\n",
    "\n",
    "ax = figure.add_subplot(2, 2, 3, title='Gaussian quantiles')\n",
    "distances = nth_lowest_distances(4, X_quan)\n",
    "distances.sort(reverse=True)\n",
    "plt.plot(range(len(distances)), distances)\n",
    "\n",
    "ax = figure.add_subplot(2, 2, 4, title='Swiss roll')\n",
    "distances = nth_lowest_distances(4, X_swiss)\n",
    "distances.sort(reverse=True)\n",
    "plt.plot(range(len(distances)), distances)\n"
   ]
  },
  {
   "cell_type": "code",
   "execution_count": null,
   "metadata": {},
   "outputs": [],
   "source": [
    "\n",
    "def plot_dbscan(X, dbscan, ax):\n",
    "    y_prime = dbscan.fit_predict(X)\n",
    "    for i in range(y_prime.max() + 1) :\n",
    "        ax.plot(X[y_prime == i, 0], X[y_prime == i, 1], '.', label=i)\n",
    "    ax.plot(X[y_prime == -1, 0], X[y_prime == -1, 1], 'X')\n",
    "\n",
    "\n",
    "figure = plt.figure(figsize=(10, 10))\n",
    "\n",
    "cluster = DBSCAN(eps=.16, min_samples=4)\n",
    "ax = figure.add_subplot(2, 2, 1, title='moons')\n",
    "plot_dbscan(X_moons, cluster, ax)\n",
    "\n",
    "cluster = DBSCAN(eps=.135, min_samples=4)\n",
    "ax = figure.add_subplot(2, 2, 2, title='circles')\n",
    "plot_dbscan(X_circles, cluster, ax)\n",
    "\n",
    "cluster = DBSCAN(eps=.35, min_samples=4)\n",
    "ax = figure.add_subplot(2, 2, 3, title='Gaussian quantiles')\n",
    "plot_dbscan(X_quan, cluster, ax)\n",
    "\n",
    "cluster = DBSCAN(eps=1.7, min_samples=6)\n",
    "ax = figure.add_subplot(2, 2, 4, title='Swiss roll', projection='3d')\n",
    "y_prime = cluster.fit_predict(X_swiss)\n",
    "for i in range(y_prime.max() + 1) :\n",
    "    ax.plot(X_swiss[y_prime == i, 0], X_swiss[y_prime == i, 1], X_swiss[y_prime == i, 2], '.', label=i)\n",
    "ax.plot(X_swiss[y_prime == -1, 0], X_swiss[y_prime == -1, 1], X_swiss[y_prime == -1, 2], 'X')\n"
   ]
  }
 ],
 "metadata": {
  "kernelspec": {
   "display_name": "Python 3",
   "language": "python",
   "name": "python3"
  },
  "language_info": {
   "codemirror_mode": {
    "name": "ipython",
    "version": 3
   },
   "file_extension": ".py",
   "mimetype": "text/x-python",
   "name": "python",
   "nbconvert_exporter": "python",
   "pygments_lexer": "ipython3",
   "version": "3.12.7"
  },
  "orig_nbformat": 4
 },
 "nbformat": 4,
 "nbformat_minor": 2
}
